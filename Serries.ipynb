{
  "nbformat": 4,
  "nbformat_minor": 0,
  "metadata": {
    "colab": {
      "name": "Untitled5.ipynb",
      "provenance": [],
      "collapsed_sections": [],
      "authorship_tag": "ABX9TyMBCLayA8gmSEBQaYNvXG15",
      "include_colab_link": true
    },
    "kernelspec": {
      "name": "python3",
      "display_name": "Python 3"
    },
    "language_info": {
      "name": "python"
    }
  },
  "cells": [
    {
      "cell_type": "markdown",
      "metadata": {
        "id": "view-in-github",
        "colab_type": "text"
      },
      "source": [
        "<a href=\"https://colab.research.google.com/github/Tradingmouse/public-computing-space/blob/main/Serries.ipynb\" target=\"_parent\"><img src=\"https://colab.research.google.com/assets/colab-badge.svg\" alt=\"Open In Colab\"/></a>"
      ]
    },
    {
      "cell_type": "code",
      "execution_count": 6,
      "metadata": {
        "id": "kIm4y0s7VUlt"
      },
      "outputs": [],
      "source": [
        "import pandas as pd\n",
        "import numpy as np\n"
      ]
    },
    {
      "cell_type": "code",
      "source": [
        "labels = ['a', \"b\", 'c', \"d\",\"e\"]\n",
        "my_list = [1,2,3,420,69]\n",
        "arr = np.array([1,2,3,420,69])\n",
        "d = {\"a\":10, \"b\":20, \"b\":30, \"c\":100}"
      ],
      "metadata": {
        "id": "_3a0iGdwVWIT"
      },
      "execution_count": 7,
      "outputs": []
    },
    {
      "cell_type": "code",
      "source": [
        "pd.Series(my_list,index=labels)"
      ],
      "metadata": {
        "colab": {
          "base_uri": "https://localhost:8080/"
        },
        "id": "sJWnT2TEXuzs",
        "outputId": "2c07b3be-1085-499c-fcf7-6746041f7b7d"
      },
      "execution_count": 8,
      "outputs": [
        {
          "output_type": "execute_result",
          "data": {
            "text/plain": [
              "a      1\n",
              "b      2\n",
              "c      3\n",
              "d    420\n",
              "e     69\n",
              "dtype: int64"
            ]
          },
          "metadata": {},
          "execution_count": 8
        }
      ]
    },
    {
      "cell_type": "code",
      "source": [
        "pd.Series(arr,labels)"
      ],
      "metadata": {
        "colab": {
          "base_uri": "https://localhost:8080/"
        },
        "id": "pJRIf1ysX1zx",
        "outputId": "ff97eba3-37b3-4346-d072-468208d834e5"
      },
      "execution_count": 9,
      "outputs": [
        {
          "output_type": "execute_result",
          "data": {
            "text/plain": [
              "a      1\n",
              "b      2\n",
              "c      3\n",
              "d    420\n",
              "e     69\n",
              "dtype: int64"
            ]
          },
          "metadata": {},
          "execution_count": 9
        }
      ]
    },
    {
      "cell_type": "code",
      "source": [
        "pd.Series(data=labels)"
      ],
      "metadata": {
        "colab": {
          "base_uri": "https://localhost:8080/"
        },
        "id": "Dk-UR5coD9LG",
        "outputId": "da257219-d22f-4187-b9b5-c6945e87b871"
      },
      "execution_count": 10,
      "outputs": [
        {
          "output_type": "execute_result",
          "data": {
            "text/plain": [
              "0    a\n",
              "1    b\n",
              "2    c\n",
              "3    d\n",
              "4    e\n",
              "dtype: object"
            ]
          },
          "metadata": {},
          "execution_count": 10
        }
      ]
    },
    {
      "cell_type": "code",
      "source": [
        "ser1 = pd.Series([1,2,3,4,5], index= [\"China\",\"USA\", \"Belgium\", \"Russia\", 'Netherlands'])"
      ],
      "metadata": {
        "id": "-a0z7z9qEqb7"
      },
      "execution_count": 16,
      "outputs": []
    },
    {
      "cell_type": "code",
      "source": [
        "ser1"
      ],
      "metadata": {
        "colab": {
          "base_uri": "https://localhost:8080/"
        },
        "id": "2t2aqaS8VpEw",
        "outputId": "0c36523d-6e99-4c16-ac88-6f118b61a826"
      },
      "execution_count": 17,
      "outputs": [
        {
          "output_type": "execute_result",
          "data": {
            "text/plain": [
              "China          1\n",
              "USA            2\n",
              "Belgium        3\n",
              "Russia         4\n",
              "Netherlands    5\n",
              "dtype: int64"
            ]
          },
          "metadata": {},
          "execution_count": 17
        }
      ]
    },
    {
      "cell_type": "code",
      "source": [
        "ser2 = pd.Series([1,2,3,4,5], index= [\"Italy\",\"USA\", \"Belgium\", \"France\", 'Netherlands'])"
      ],
      "metadata": {
        "id": "9pepAGP7WGXU"
      },
      "execution_count": 18,
      "outputs": []
    },
    {
      "cell_type": "code",
      "source": [
        "ser1 [\"USA\"], + ser2 [\"Netherlands\"]"
      ],
      "metadata": {
        "colab": {
          "base_uri": "https://localhost:8080/"
        },
        "id": "UOpyeND128vS",
        "outputId": "f3d9d356-9464-4f07-f3cd-99c564c47591"
      },
      "execution_count": 22,
      "outputs": [
        {
          "output_type": "execute_result",
          "data": {
            "text/plain": [
              "(2, 5)"
            ]
          },
          "metadata": {},
          "execution_count": 22
        }
      ]
    },
    {
      "cell_type": "code",
      "source": [
        "ser1+ser2"
      ],
      "metadata": {
        "colab": {
          "base_uri": "https://localhost:8080/"
        },
        "id": "w_fACIsI3C4x",
        "outputId": "3a3db0e1-9ec6-45fe-83a0-33b96835df43"
      },
      "execution_count": 23,
      "outputs": [
        {
          "output_type": "execute_result",
          "data": {
            "text/plain": [
              "Belgium         6.0\n",
              "China           NaN\n",
              "France          NaN\n",
              "Italy           NaN\n",
              "Netherlands    10.0\n",
              "Russia          NaN\n",
              "USA             4.0\n",
              "dtype: float64"
            ]
          },
          "metadata": {},
          "execution_count": 23
        }
      ]
    },
    {
      "cell_type": "code",
      "source": [
        ""
      ],
      "metadata": {
        "id": "FKKnfpWo3c9G"
      },
      "execution_count": null,
      "outputs": []
    }
  ]
}